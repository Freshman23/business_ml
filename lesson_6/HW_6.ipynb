{
 "cells": [
  {
   "cell_type": "markdown",
   "id": "a6ebc555",
   "metadata": {},
   "source": [
    "### Домашнее задание №6.\n",
    "\n",
    "1. Взять любой набор данных для бинарной классификации (можно скачать один из модельных с https://archive.ics.uci.edu/ml/datasets.php).\n",
    "2. Обучить любой классификатор (какой вам нравится).\n",
    "3. Разделить ваш набор данных на два множества: P (positives) и U (unlabeled). Причем брать нужно не все положительные примеры (класс 1), а только лишь часть.\n",
    "4. Применить random negative sampling для построения классификатора в новых условиях.\n",
    "5. Сравнить качество с решением из пункта 3 (построить отчет - таблицу метрик).\n",
    "6. *Поэкспериментировать с долей P на шаге 5 (как будет меняться качество модели при уменьшении/увеличении размера P)."
   ]
  },
  {
   "cell_type": "markdown",
   "id": "577aaca4",
   "metadata": {},
   "source": [
    "Возьмем датасет бинарной классификации, представляющий собой электронную медицинискую карту пациентов с результатами лабораторных анализов, для определения дальнейшего хода лечения (требуется дальнейший уход за пациентом или нет)."
   ]
  },
  {
   "cell_type": "code",
   "execution_count": 1,
   "id": "ba792dcf",
   "metadata": {},
   "outputs": [],
   "source": [
    "import numpy as np\n",
    "import pandas as pd\n",
    "\n",
    "from sklearn.base import BaseEstimator, TransformerMixin\n",
    "from sklearn.pipeline import Pipeline, FeatureUnion\n",
    "from sklearn.model_selection import train_test_split\n",
    "from xgboost import XGBClassifier\n",
    "from sklearn.metrics import roc_auc_score, precision_recall_curve"
   ]
  },
  {
   "cell_type": "code",
   "execution_count": 2,
   "id": "37fa0e7d",
   "metadata": {},
   "outputs": [],
   "source": [
    "df = pd.read_csv('data-ori.csv')"
   ]
  },
  {
   "cell_type": "code",
   "execution_count": 3,
   "id": "8c0d3a5d",
   "metadata": {},
   "outputs": [
    {
     "data": {
      "text/html": [
       "<div>\n",
       "<style scoped>\n",
       "    .dataframe tbody tr th:only-of-type {\n",
       "        vertical-align: middle;\n",
       "    }\n",
       "\n",
       "    .dataframe tbody tr th {\n",
       "        vertical-align: top;\n",
       "    }\n",
       "\n",
       "    .dataframe thead th {\n",
       "        text-align: right;\n",
       "    }\n",
       "</style>\n",
       "<table border=\"1\" class=\"dataframe\">\n",
       "  <thead>\n",
       "    <tr style=\"text-align: right;\">\n",
       "      <th></th>\n",
       "      <th>HAEMATOCRIT</th>\n",
       "      <th>HAEMOGLOBINS</th>\n",
       "      <th>ERYTHROCYTE</th>\n",
       "      <th>LEUCOCYTE</th>\n",
       "      <th>THROMBOCYTE</th>\n",
       "      <th>MCH</th>\n",
       "      <th>MCHC</th>\n",
       "      <th>MCV</th>\n",
       "      <th>AGE</th>\n",
       "      <th>SEX</th>\n",
       "      <th>SOURCE</th>\n",
       "    </tr>\n",
       "  </thead>\n",
       "  <tbody>\n",
       "    <tr>\n",
       "      <th>0</th>\n",
       "      <td>35.1</td>\n",
       "      <td>11.8</td>\n",
       "      <td>4.65</td>\n",
       "      <td>6.3</td>\n",
       "      <td>310</td>\n",
       "      <td>25.4</td>\n",
       "      <td>33.6</td>\n",
       "      <td>75.5</td>\n",
       "      <td>1</td>\n",
       "      <td>F</td>\n",
       "      <td>out</td>\n",
       "    </tr>\n",
       "    <tr>\n",
       "      <th>1</th>\n",
       "      <td>43.5</td>\n",
       "      <td>14.8</td>\n",
       "      <td>5.39</td>\n",
       "      <td>12.7</td>\n",
       "      <td>334</td>\n",
       "      <td>27.5</td>\n",
       "      <td>34.0</td>\n",
       "      <td>80.7</td>\n",
       "      <td>1</td>\n",
       "      <td>F</td>\n",
       "      <td>out</td>\n",
       "    </tr>\n",
       "    <tr>\n",
       "      <th>2</th>\n",
       "      <td>33.5</td>\n",
       "      <td>11.3</td>\n",
       "      <td>4.74</td>\n",
       "      <td>13.2</td>\n",
       "      <td>305</td>\n",
       "      <td>23.8</td>\n",
       "      <td>33.7</td>\n",
       "      <td>70.7</td>\n",
       "      <td>1</td>\n",
       "      <td>F</td>\n",
       "      <td>out</td>\n",
       "    </tr>\n",
       "    <tr>\n",
       "      <th>3</th>\n",
       "      <td>39.1</td>\n",
       "      <td>13.7</td>\n",
       "      <td>4.98</td>\n",
       "      <td>10.5</td>\n",
       "      <td>366</td>\n",
       "      <td>27.5</td>\n",
       "      <td>35.0</td>\n",
       "      <td>78.5</td>\n",
       "      <td>1</td>\n",
       "      <td>F</td>\n",
       "      <td>out</td>\n",
       "    </tr>\n",
       "    <tr>\n",
       "      <th>4</th>\n",
       "      <td>30.9</td>\n",
       "      <td>9.9</td>\n",
       "      <td>4.23</td>\n",
       "      <td>22.1</td>\n",
       "      <td>333</td>\n",
       "      <td>23.4</td>\n",
       "      <td>32.0</td>\n",
       "      <td>73.0</td>\n",
       "      <td>1</td>\n",
       "      <td>M</td>\n",
       "      <td>out</td>\n",
       "    </tr>\n",
       "  </tbody>\n",
       "</table>\n",
       "</div>"
      ],
      "text/plain": [
       "   HAEMATOCRIT  HAEMOGLOBINS  ERYTHROCYTE  LEUCOCYTE  THROMBOCYTE   MCH  MCHC  \\\n",
       "0         35.1          11.8         4.65        6.3          310  25.4  33.6   \n",
       "1         43.5          14.8         5.39       12.7          334  27.5  34.0   \n",
       "2         33.5          11.3         4.74       13.2          305  23.8  33.7   \n",
       "3         39.1          13.7         4.98       10.5          366  27.5  35.0   \n",
       "4         30.9           9.9         4.23       22.1          333  23.4  32.0   \n",
       "\n",
       "    MCV  AGE SEX SOURCE  \n",
       "0  75.5    1   F    out  \n",
       "1  80.7    1   F    out  \n",
       "2  70.7    1   F    out  \n",
       "3  78.5    1   F    out  \n",
       "4  73.0    1   M    out  "
      ]
     },
     "execution_count": 3,
     "metadata": {},
     "output_type": "execute_result"
    }
   ],
   "source": [
    "df.head()"
   ]
  },
  {
   "cell_type": "code",
   "execution_count": 4,
   "id": "7d6a2e8e",
   "metadata": {},
   "outputs": [
    {
     "data": {
      "text/html": [
       "<div>\n",
       "<style scoped>\n",
       "    .dataframe tbody tr th:only-of-type {\n",
       "        vertical-align: middle;\n",
       "    }\n",
       "\n",
       "    .dataframe tbody tr th {\n",
       "        vertical-align: top;\n",
       "    }\n",
       "\n",
       "    .dataframe thead th {\n",
       "        text-align: right;\n",
       "    }\n",
       "</style>\n",
       "<table border=\"1\" class=\"dataframe\">\n",
       "  <thead>\n",
       "    <tr style=\"text-align: right;\">\n",
       "      <th></th>\n",
       "      <th>HAEMATOCRIT</th>\n",
       "      <th>HAEMOGLOBINS</th>\n",
       "      <th>ERYTHROCYTE</th>\n",
       "      <th>LEUCOCYTE</th>\n",
       "      <th>THROMBOCYTE</th>\n",
       "      <th>MCH</th>\n",
       "      <th>MCHC</th>\n",
       "      <th>MCV</th>\n",
       "      <th>AGE</th>\n",
       "    </tr>\n",
       "  </thead>\n",
       "  <tbody>\n",
       "    <tr>\n",
       "      <th>count</th>\n",
       "      <td>4412.000000</td>\n",
       "      <td>4412.000000</td>\n",
       "      <td>4412.000000</td>\n",
       "      <td>4412.000000</td>\n",
       "      <td>4412.000000</td>\n",
       "      <td>4412.000000</td>\n",
       "      <td>4412.000000</td>\n",
       "      <td>4412.000000</td>\n",
       "      <td>4412.000000</td>\n",
       "    </tr>\n",
       "    <tr>\n",
       "      <th>mean</th>\n",
       "      <td>38.197688</td>\n",
       "      <td>12.741727</td>\n",
       "      <td>4.541260</td>\n",
       "      <td>8.718608</td>\n",
       "      <td>257.524479</td>\n",
       "      <td>28.234701</td>\n",
       "      <td>33.343042</td>\n",
       "      <td>84.612942</td>\n",
       "      <td>46.626473</td>\n",
       "    </tr>\n",
       "    <tr>\n",
       "      <th>std</th>\n",
       "      <td>5.974784</td>\n",
       "      <td>2.079903</td>\n",
       "      <td>0.784091</td>\n",
       "      <td>5.049041</td>\n",
       "      <td>113.972365</td>\n",
       "      <td>2.672639</td>\n",
       "      <td>1.228664</td>\n",
       "      <td>6.859101</td>\n",
       "      <td>21.731218</td>\n",
       "    </tr>\n",
       "    <tr>\n",
       "      <th>min</th>\n",
       "      <td>13.700000</td>\n",
       "      <td>3.800000</td>\n",
       "      <td>1.480000</td>\n",
       "      <td>1.100000</td>\n",
       "      <td>8.000000</td>\n",
       "      <td>14.900000</td>\n",
       "      <td>26.000000</td>\n",
       "      <td>54.000000</td>\n",
       "      <td>1.000000</td>\n",
       "    </tr>\n",
       "    <tr>\n",
       "      <th>25%</th>\n",
       "      <td>34.375000</td>\n",
       "      <td>11.400000</td>\n",
       "      <td>4.040000</td>\n",
       "      <td>5.675000</td>\n",
       "      <td>188.000000</td>\n",
       "      <td>27.200000</td>\n",
       "      <td>32.700000</td>\n",
       "      <td>81.500000</td>\n",
       "      <td>29.000000</td>\n",
       "    </tr>\n",
       "    <tr>\n",
       "      <th>50%</th>\n",
       "      <td>38.600000</td>\n",
       "      <td>12.900000</td>\n",
       "      <td>4.570000</td>\n",
       "      <td>7.600000</td>\n",
       "      <td>256.000000</td>\n",
       "      <td>28.700000</td>\n",
       "      <td>33.400000</td>\n",
       "      <td>85.400000</td>\n",
       "      <td>47.000000</td>\n",
       "    </tr>\n",
       "    <tr>\n",
       "      <th>75%</th>\n",
       "      <td>42.500000</td>\n",
       "      <td>14.200000</td>\n",
       "      <td>5.050000</td>\n",
       "      <td>10.300000</td>\n",
       "      <td>321.000000</td>\n",
       "      <td>29.800000</td>\n",
       "      <td>34.100000</td>\n",
       "      <td>88.700000</td>\n",
       "      <td>64.000000</td>\n",
       "    </tr>\n",
       "    <tr>\n",
       "      <th>max</th>\n",
       "      <td>69.000000</td>\n",
       "      <td>18.900000</td>\n",
       "      <td>7.860000</td>\n",
       "      <td>76.600000</td>\n",
       "      <td>1183.000000</td>\n",
       "      <td>40.800000</td>\n",
       "      <td>39.000000</td>\n",
       "      <td>115.600000</td>\n",
       "      <td>99.000000</td>\n",
       "    </tr>\n",
       "  </tbody>\n",
       "</table>\n",
       "</div>"
      ],
      "text/plain": [
       "       HAEMATOCRIT  HAEMOGLOBINS  ERYTHROCYTE    LEUCOCYTE  THROMBOCYTE  \\\n",
       "count  4412.000000   4412.000000  4412.000000  4412.000000  4412.000000   \n",
       "mean     38.197688     12.741727     4.541260     8.718608   257.524479   \n",
       "std       5.974784      2.079903     0.784091     5.049041   113.972365   \n",
       "min      13.700000      3.800000     1.480000     1.100000     8.000000   \n",
       "25%      34.375000     11.400000     4.040000     5.675000   188.000000   \n",
       "50%      38.600000     12.900000     4.570000     7.600000   256.000000   \n",
       "75%      42.500000     14.200000     5.050000    10.300000   321.000000   \n",
       "max      69.000000     18.900000     7.860000    76.600000  1183.000000   \n",
       "\n",
       "               MCH         MCHC          MCV          AGE  \n",
       "count  4412.000000  4412.000000  4412.000000  4412.000000  \n",
       "mean     28.234701    33.343042    84.612942    46.626473  \n",
       "std       2.672639     1.228664     6.859101    21.731218  \n",
       "min      14.900000    26.000000    54.000000     1.000000  \n",
       "25%      27.200000    32.700000    81.500000    29.000000  \n",
       "50%      28.700000    33.400000    85.400000    47.000000  \n",
       "75%      29.800000    34.100000    88.700000    64.000000  \n",
       "max      40.800000    39.000000   115.600000    99.000000  "
      ]
     },
     "execution_count": 4,
     "metadata": {},
     "output_type": "execute_result"
    }
   ],
   "source": [
    "df.describe()"
   ]
  },
  {
   "cell_type": "code",
   "execution_count": 5,
   "id": "d36cc169",
   "metadata": {
    "scrolled": true
   },
   "outputs": [
    {
     "name": "stdout",
     "output_type": "stream",
     "text": [
      "<class 'pandas.core.frame.DataFrame'>\n",
      "RangeIndex: 4412 entries, 0 to 4411\n",
      "Data columns (total 11 columns):\n",
      " #   Column        Non-Null Count  Dtype  \n",
      "---  ------        --------------  -----  \n",
      " 0   HAEMATOCRIT   4412 non-null   float64\n",
      " 1   HAEMOGLOBINS  4412 non-null   float64\n",
      " 2   ERYTHROCYTE   4412 non-null   float64\n",
      " 3   LEUCOCYTE     4412 non-null   float64\n",
      " 4   THROMBOCYTE   4412 non-null   int64  \n",
      " 5   MCH           4412 non-null   float64\n",
      " 6   MCHC          4412 non-null   float64\n",
      " 7   MCV           4412 non-null   float64\n",
      " 8   AGE           4412 non-null   int64  \n",
      " 9   SEX           4412 non-null   object \n",
      " 10  SOURCE        4412 non-null   object \n",
      "dtypes: float64(7), int64(2), object(2)\n",
      "memory usage: 379.3+ KB\n"
     ]
    }
   ],
   "source": [
    "df.info()"
   ]
  },
  {
   "cell_type": "code",
   "execution_count": 6,
   "id": "6de1cba4",
   "metadata": {},
   "outputs": [
    {
     "data": {
      "text/plain": [
       "out    2628\n",
       "in     1784\n",
       "Name: SOURCE, dtype: int64"
      ]
     },
     "execution_count": 6,
     "metadata": {},
     "output_type": "execute_result"
    }
   ],
   "source": [
    "df['SOURCE'].value_counts()"
   ]
  },
  {
   "cell_type": "markdown",
   "id": "1cfdec55",
   "metadata": {},
   "source": [
    "- Соберем пайплайн для признаков."
   ]
  },
  {
   "cell_type": "code",
   "execution_count": 7,
   "id": "7a665dd0",
   "metadata": {},
   "outputs": [],
   "source": [
    "class FeatureSelector(BaseEstimator, TransformerMixin):\n",
    "    \n",
    "    def __init__(self, column):\n",
    "        self.column = column\n",
    "\n",
    "    def fit(self, X, y=None):\n",
    "        return self\n",
    "\n",
    "    def transform(self, X):\n",
    "        return X[self.column]\n",
    "    \n",
    "class NumberSelector(BaseEstimator, TransformerMixin):\n",
    "    \n",
    "    def __init__(self, key):\n",
    "        self.key = key\n",
    "\n",
    "    def fit(self, X, y=None):\n",
    "        return self\n",
    "\n",
    "    def transform(self, X):\n",
    "        return X[[self.key]]\n",
    "    \n",
    "class OHEEncoder(BaseEstimator, TransformerMixin):\n",
    "    def __init__(self, key):\n",
    "        self.key = key\n",
    "        self.columns = []\n",
    "\n",
    "    def fit(self, X, y=None):\n",
    "        self.columns = [col for col in pd.get_dummies(X, prefix=self.key).columns]\n",
    "        return self\n",
    "\n",
    "    def transform(self, X):\n",
    "        return pd.get_dummies(X, prefix=self.key)[self.columns]"
   ]
  },
  {
   "cell_type": "code",
   "execution_count": 8,
   "id": "54b54d1e",
   "metadata": {},
   "outputs": [],
   "source": [
    "transformers = []\n",
    "\n",
    "for cont_col in df.columns.drop(['SEX', 'SOURCE']):\n",
    "    cont_transformer = Pipeline([\n",
    "                ('selector', NumberSelector(key=cont_col))\n",
    "            ])\n",
    "    transformers.append((cont_col, cont_transformer))\n",
    "\n",
    "transformers.append(('SEX', Pipeline([('selector', FeatureSelector(column='SEX')),\n",
    "                                         ('ohe', OHEEncoder(key='SEX'))])\n",
    "                    ))\n",
    "\n",
    "feats = FeatureUnion(transformers)"
   ]
  },
  {
   "cell_type": "markdown",
   "id": "5038b88a",
   "metadata": {},
   "source": [
    "- Напишем функцию для обучения модели и подсчета метрик классификации."
   ]
  },
  {
   "cell_type": "code",
   "execution_count": 9,
   "id": "9c607d71",
   "metadata": {},
   "outputs": [],
   "source": [
    "def learn_model_eval_results(model, X_train, y_train, X_test, y_test, verbose=False):\n",
    "    model.fit(X_train, y_train)\n",
    "    preds = model.predict_proba(X_test)[:, 1]\n",
    "    \n",
    "    prc, rec, ths = precision_recall_curve(y_test, preds)\n",
    "    prc[(prc == 0) & (rec == 0)] = np.e-10\n",
    "    f1 = (2 * prc * rec) / (prc + rec)\n",
    "    \n",
    "    ix = np.argmax(f1)\n",
    "    \n",
    "    if verbose:\n",
    "        print('Classification results:')\n",
    "        print(f\"f1: {f1[ix] * 100.0:.2f}%\") \n",
    "        print(f\"recall: {rec[ix] * 100.0:.2f}%\") \n",
    "        print(f\"precision: {prc[ix] * 100.0:.2f}%\" )\n",
    "        roc = roc_auc_score(y_test, preds)\n",
    "        print(f\"roc: {roc * 100.0:.2f}%\")\n",
    "    \n",
    "    return f1[ix], prc[ix], rec[ix], ths[ix], roc"
   ]
  },
  {
   "cell_type": "markdown",
   "id": "3acd750f",
   "metadata": {},
   "source": [
    "- Заменим значения целевого признака на 0 и 1. Далее разобьём датасет на train и test."
   ]
  },
  {
   "cell_type": "code",
   "execution_count": 10,
   "id": "ca5201f9",
   "metadata": {},
   "outputs": [],
   "source": [
    "df['SOURCE'] = np.where(df['SOURCE'] == 'in', 1, 0).astype('i1')"
   ]
  },
  {
   "cell_type": "code",
   "execution_count": 11,
   "id": "1692eeda",
   "metadata": {},
   "outputs": [],
   "source": [
    "X_train, X_test, y_train, y_test = train_test_split(df.drop(['SOURCE'], axis=1), df['SOURCE'], random_state=23)"
   ]
  },
  {
   "cell_type": "markdown",
   "id": "a6be815b",
   "metadata": {},
   "source": [
    "- Построим, обучим модель бустинга и выполним предсказания. Посчитаем и запомним метрики классификации."
   ]
  },
  {
   "cell_type": "code",
   "execution_count": 12,
   "id": "58510837",
   "metadata": {},
   "outputs": [],
   "source": [
    "xgb = Pipeline([('features', feats),\n",
    "                ('classifier', XGBClassifier(\n",
    "                    n_estimators=100,\n",
    "                    learning_rate=0.1,\n",
    "                    max_depth=5,\n",
    "                    use_label_encoder=False,\n",
    "                    eval_metric='error',\n",
    "                    random_state=23))])\n",
    "\n",
    "pivot_metric_table = []"
   ]
  },
  {
   "cell_type": "code",
   "execution_count": 13,
   "id": "8675fb69",
   "metadata": {},
   "outputs": [
    {
     "name": "stdout",
     "output_type": "stream",
     "text": [
      "Classification results:\n",
      "f1: 68.86%\n",
      "recall: 82.66%\n",
      "precision: 59.00%\n",
      "roc: 80.42%\n"
     ]
    }
   ],
   "source": [
    "pivot_metric_table.append(learn_model_eval_results(xgb, X_train, y_train, X_test, y_test, verbose=True))"
   ]
  },
  {
   "cell_type": "markdown",
   "id": "206a54d1",
   "metadata": {},
   "source": [
    "- Для перевода представдения датасета как Positive Unlabeled напишем пару функций. Первая добавляет целевой признак с заданной долей позитивного класса, вторая делит датасет на обучающий (в нем все объекты с позитивным классом и столько же неразмеченных объектов) и тестовый (в нём оставшиеся объекты)."
   ]
  },
  {
   "cell_type": "code",
   "execution_count": 14,
   "id": "1ad5cebf",
   "metadata": {},
   "outputs": [],
   "source": [
    "def add_pu_column(df, target, perc):\n",
    "    mod_df = df.copy()\n",
    "    \n",
    "    pos_ind = np.where(mod_df[target] == 1)[0]\n",
    "    np.random.shuffle(pos_ind)\n",
    "    \n",
    "    pos_sample = pos_ind[:int(np.ceil(perc * len(pos_ind)))]\n",
    "    \n",
    "    mod_df['pu_col'] = 0\n",
    "    mod_df.loc[pos_sample,'pu_col'] = 1\n",
    "    \n",
    "    return mod_df\n",
    "\n",
    "def train_test_sample_split(df, real_target, pu_target):\n",
    "    df = df.copy()\n",
    "    \n",
    "    pos_df = df[df[pu_target] == 1]\n",
    "    neg_df = df[df[pu_target] == 0]\n",
    "    \n",
    "    pos_sample = pos_df.copy()\n",
    "    neg_sample = neg_df[:pos_df.shape[0]]\n",
    "    sample_train = pd.concat([neg_sample, pos_sample]).sample(frac=1)\n",
    "    sample_test = neg_df[pos_df.shape[0]:]\n",
    "    \n",
    "    return sample_train.drop([real_target, pu_target], axis=1), \\\n",
    "           sample_test.drop([real_target, pu_target], axis=1), \\\n",
    "           sample_train[real_target], \\\n",
    "           sample_test[real_target], \\\n",
    "           sample_train[pu_target], \\\n",
    "           sample_test[pu_target]"
   ]
  },
  {
   "cell_type": "markdown",
   "id": "f257a726",
   "metadata": {},
   "source": [
    "- Обучим модели на датасетах с заданными долями позитивным классов и посчитаем метрики."
   ]
  },
  {
   "cell_type": "code",
   "execution_count": 15,
   "id": "01c31451",
   "metadata": {},
   "outputs": [
    {
     "name": "stdout",
     "output_type": "stream",
     "text": [
      "10.0 % of positive labels:\n",
      "Classification results:\n",
      "f1: 55.62%\n",
      "recall: 99.87%\n",
      "precision: 38.54%\n",
      "roc: 60.12%\n",
      "******************************\n",
      "20.0 % of positive labels:\n",
      "Classification results:\n",
      "f1: 54.87%\n",
      "recall: 80.11%\n",
      "precision: 41.72%\n",
      "roc: 61.74%\n",
      "******************************\n",
      "30.0 % of positive labels:\n",
      "Classification results:\n",
      "f1: 51.76%\n",
      "recall: 70.17%\n",
      "precision: 41.00%\n",
      "roc: 64.51%\n",
      "******************************\n",
      "30.0 % of positive labels:\n",
      "Classification results:\n",
      "f1: 50.53%\n",
      "recall: 95.20%\n",
      "precision: 34.39%\n",
      "roc: 58.89%\n",
      "******************************\n",
      "40.0 % of positive labels:\n",
      "Classification results:\n",
      "f1: 52.59%\n",
      "recall: 69.57%\n",
      "precision: 42.28%\n",
      "roc: 67.71%\n",
      "******************************\n"
     ]
    }
   ],
   "source": [
    "for perc in [0.1, 0.2, 0.3, 0.3, 0.4]:\n",
    "    mod_df = add_pu_column(df, 'SOURCE', perc)\n",
    "    X_train, X_test, y_train, y_test, y_train_pu, y_test_pu = train_test_sample_split(mod_df, 'SOURCE', 'pu_col')\n",
    "    print(f'{perc * 100} % of positive labels:')\n",
    "    pivot_metric_table.append(learn_model_eval_results(xgb, X_train, y_train_pu, X_test, y_test, verbose=True))\n",
    "    print(30 * '*')"
   ]
  },
  {
   "cell_type": "markdown",
   "id": "4a2c6a91",
   "metadata": {},
   "source": [
    "- Сведем метрики по всем моделям в одну таблицу."
   ]
  },
  {
   "cell_type": "code",
   "execution_count": 16,
   "id": "9e7b2423",
   "metadata": {},
   "outputs": [],
   "source": [
    "pivot_metric_table = pd.DataFrame(pivot_metric_table)\n",
    "pivot_metric_table.columns = ['F score', 'Precision', 'Recall', 'Optimal threshold', 'ROC AUC score']\n",
    "pivot_metric_table['Classifier'] = ['xgb', 'xgb_pu_10', 'xgb_pu_20', 'xgb_pu_30', 'xgb_pu_40', 'xgb_pu_50']\n",
    "pivot_metric_table.set_index('Classifier', inplace=True)"
   ]
  },
  {
   "cell_type": "code",
   "execution_count": 17,
   "id": "b6e1e6ff",
   "metadata": {},
   "outputs": [
    {
     "data": {
      "text/html": [
       "<div>\n",
       "<style scoped>\n",
       "    .dataframe tbody tr th:only-of-type {\n",
       "        vertical-align: middle;\n",
       "    }\n",
       "\n",
       "    .dataframe tbody tr th {\n",
       "        vertical-align: top;\n",
       "    }\n",
       "\n",
       "    .dataframe thead th {\n",
       "        text-align: right;\n",
       "    }\n",
       "</style>\n",
       "<table border=\"1\" class=\"dataframe\">\n",
       "  <thead>\n",
       "    <tr style=\"text-align: right;\">\n",
       "      <th></th>\n",
       "      <th>F score</th>\n",
       "      <th>Precision</th>\n",
       "      <th>Recall</th>\n",
       "      <th>Optimal threshold</th>\n",
       "      <th>ROC AUC score</th>\n",
       "    </tr>\n",
       "    <tr>\n",
       "      <th>Classifier</th>\n",
       "      <th></th>\n",
       "      <th></th>\n",
       "      <th></th>\n",
       "      <th></th>\n",
       "      <th></th>\n",
       "    </tr>\n",
       "  </thead>\n",
       "  <tbody>\n",
       "    <tr>\n",
       "      <th>xgb</th>\n",
       "      <td>0.688555</td>\n",
       "      <td>0.590032</td>\n",
       "      <td>0.826577</td>\n",
       "      <td>0.258112</td>\n",
       "      <td>0.804208</td>\n",
       "    </tr>\n",
       "    <tr>\n",
       "      <th>xgb_pu_10</th>\n",
       "      <td>0.556211</td>\n",
       "      <td>0.385435</td>\n",
       "      <td>0.998716</td>\n",
       "      <td>0.987335</td>\n",
       "      <td>0.601185</td>\n",
       "    </tr>\n",
       "    <tr>\n",
       "      <th>xgb_pu_20</th>\n",
       "      <td>0.548682</td>\n",
       "      <td>0.417229</td>\n",
       "      <td>0.801067</td>\n",
       "      <td>0.996794</td>\n",
       "      <td>0.617387</td>\n",
       "    </tr>\n",
       "    <tr>\n",
       "      <th>xgb_pu_30</th>\n",
       "      <td>0.517553</td>\n",
       "      <td>0.409958</td>\n",
       "      <td>0.701723</td>\n",
       "      <td>0.998251</td>\n",
       "      <td>0.645112</td>\n",
       "    </tr>\n",
       "    <tr>\n",
       "      <th>xgb_pu_40</th>\n",
       "      <td>0.505283</td>\n",
       "      <td>0.343903</td>\n",
       "      <td>0.952036</td>\n",
       "      <td>0.996408</td>\n",
       "      <td>0.588939</td>\n",
       "    </tr>\n",
       "    <tr>\n",
       "      <th>xgb_pu_50</th>\n",
       "      <td>0.525917</td>\n",
       "      <td>0.422764</td>\n",
       "      <td>0.695652</td>\n",
       "      <td>0.998157</td>\n",
       "      <td>0.677057</td>\n",
       "    </tr>\n",
       "  </tbody>\n",
       "</table>\n",
       "</div>"
      ],
      "text/plain": [
       "             F score  Precision    Recall  Optimal threshold  ROC AUC score\n",
       "Classifier                                                                 \n",
       "xgb         0.688555   0.590032  0.826577           0.258112       0.804208\n",
       "xgb_pu_10   0.556211   0.385435  0.998716           0.987335       0.601185\n",
       "xgb_pu_20   0.548682   0.417229  0.801067           0.996794       0.617387\n",
       "xgb_pu_30   0.517553   0.409958  0.701723           0.998251       0.645112\n",
       "xgb_pu_40   0.505283   0.343903  0.952036           0.996408       0.588939\n",
       "xgb_pu_50   0.525917   0.422764  0.695652           0.998157       0.677057"
      ]
     },
     "execution_count": 17,
     "metadata": {},
     "output_type": "execute_result"
    }
   ],
   "source": [
    "pivot_metric_table"
   ]
  }
 ],
 "metadata": {
  "kernelspec": {
   "display_name": "Python 3",
   "language": "python",
   "name": "python3"
  },
  "language_info": {
   "codemirror_mode": {
    "name": "ipython",
    "version": 3
   },
   "file_extension": ".py",
   "mimetype": "text/x-python",
   "name": "python",
   "nbconvert_exporter": "python",
   "pygments_lexer": "ipython3",
   "version": "3.8.8"
  }
 },
 "nbformat": 4,
 "nbformat_minor": 5
}
