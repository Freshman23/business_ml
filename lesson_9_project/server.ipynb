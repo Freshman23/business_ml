{
 "cells": [
  {
   "cell_type": "markdown",
   "id": "38746646",
   "metadata": {},
   "source": [
    "## Server"
   ]
  },
  {
   "cell_type": "code",
   "execution_count": 1,
   "id": "970ded6a",
   "metadata": {},
   "outputs": [],
   "source": [
    "import numpy as np\n",
    "import pandas as pd\n",
    "import dill\n",
    "\n",
    "from flask import Flask, request, jsonify"
   ]
  },
  {
   "cell_type": "code",
   "execution_count": 2,
   "id": "54314b10",
   "metadata": {},
   "outputs": [],
   "source": [
    "with open('xgb_pipeline.dill', 'rb') as f:\n",
    "    pipeline = dill.load(f)"
   ]
  },
  {
   "cell_type": "code",
   "execution_count": 3,
   "id": "2b25001a",
   "metadata": {
    "scrolled": true
   },
   "outputs": [
    {
     "name": "stdout",
     "output_type": "stream",
     "text": [
      " * Serving Flask app \"__main__\" (lazy loading)\n",
      " * Environment: production\n",
      "   WARNING: This is a development server. Do not use it in a production deployment.\n",
      "   Use a production WSGI server instead.\n",
      " * Debug mode: off\n"
     ]
    },
    {
     "name": "stderr",
     "output_type": "stream",
     "text": [
      " * Running on http://127.0.0.1:5000/ (Press CTRL+C to quit)\n"
     ]
    }
   ],
   "source": [
    "app = Flask(__name__)\n",
    "\n",
    "\n",
    "@app.route(\"/\", methods=[\"GET\"])\n",
    "def general():\n",
    "    return \"Welcome to prediction process\"\n",
    "\n",
    "\n",
    "@app.route('/predict', methods=['POST'])\n",
    "def predict():\n",
    "    data = {\"success\": False}\n",
    "    \n",
    "    request_json = request.get_json()\n",
    "    request_json = {key: [request_json[key]] for key in request_json}\n",
    "    print(pd.DataFrame.from_dict(request_json))\n",
    "    \n",
    "    preds = pipeline.predict_proba(pd.DataFrame.from_dict(request_json))\n",
    "    print(preds)\n",
    "    \n",
    "    data = {**data, **request_json}\n",
    "    \n",
    "    data[\"predictions\"] = float(preds[:, 1][0])\n",
    "    data[\"success\"] = True\n",
    "    print('OK' + 30 * '*')\n",
    "\n",
    "    return jsonify(data)\n",
    "\n",
    "\n",
    "if __name__ == '__main__':\n",
    "    app.run()"
   ]
  }
 ],
 "metadata": {
  "kernelspec": {
   "display_name": "Python 3",
   "language": "python",
   "name": "python3"
  },
  "language_info": {
   "codemirror_mode": {
    "name": "ipython",
    "version": 3
   },
   "file_extension": ".py",
   "mimetype": "text/x-python",
   "name": "python",
   "nbconvert_exporter": "python",
   "pygments_lexer": "ipython3",
   "version": "3.8.8"
  }
 },
 "nbformat": 4,
 "nbformat_minor": 5
}
