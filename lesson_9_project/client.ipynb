{
 "cells": [
  {
   "cell_type": "markdown",
   "id": "f813cf38",
   "metadata": {},
   "source": [
    "## Client"
   ]
  },
  {
   "cell_type": "code",
   "execution_count": 1,
   "id": "46c1ddfc",
   "metadata": {},
   "outputs": [],
   "source": [
    "import numpy as np\n",
    "import pandas as pd\n",
    "\n",
    "from sklearn.metrics import precision_recall_curve\n",
    "\n",
    "import urllib.request\n",
    "import json"
   ]
  },
  {
   "cell_type": "code",
   "execution_count": 2,
   "id": "18a681ae",
   "metadata": {},
   "outputs": [],
   "source": [
    "def type_conversion(x):\n",
    "    if type(x) == np.float64:\n",
    "        return float(x)\n",
    "    if type(x) == np.int64:\n",
    "        return int(x)\n",
    "    return x\n",
    "\n",
    "def get_prediction(x, verbose=False):\n",
    "    body = {feat[0]: feat[1] for feat in zip(['HAEMATOCRIT', 'HAEMOGLOBINS', 'ERYTHROCYTE', 'LEUCOCYTE',\n",
    "                                    'THROMBOCYTE', 'MCH', 'MCHC', 'MCV', 'AGE', 'SEX'], x.apply(type_conversion))}\n",
    "    \n",
    "    myurl = 'http://127.0.0.1:5000/predict'\n",
    "    req = urllib.request.Request(myurl)\n",
    "    req.add_header('Content-Type', 'application/json; charset=utf-8')\n",
    "    \n",
    "    jsondata = json.dumps(body)\n",
    "    jsondataasbytes = jsondata.encode('utf-8')    \n",
    "    req.add_header('Content-Length', len(jsondataasbytes))\n",
    "    \n",
    "    response = urllib.request.urlopen(req, jsondataasbytes)\n",
    "    pred_data = json.loads(response.read())\n",
    "    return pred_data if verbose else pred_data['predictions']"
   ]
  },
  {
   "cell_type": "code",
   "execution_count": 3,
   "id": "9b714f5b",
   "metadata": {},
   "outputs": [],
   "source": [
    "X_test = pd.read_csv(\"X_test.csv\")\n",
    "y_test = pd.read_csv(\"y_test.csv\")"
   ]
  },
  {
   "cell_type": "markdown",
   "id": "81f9bf2b",
   "metadata": {},
   "source": [
    "Запросим предсказания с одного объекта:"
   ]
  },
  {
   "cell_type": "code",
   "execution_count": 4,
   "id": "c8ad8e20",
   "metadata": {},
   "outputs": [
    {
     "data": {
      "text/plain": [
       "{'AGE': [69],\n",
       " 'ERYTHROCYTE': [4.56],\n",
       " 'HAEMATOCRIT': [37.3],\n",
       " 'HAEMOGLOBINS': [13.4],\n",
       " 'LEUCOCYTE': [10.3],\n",
       " 'MCH': [29.4],\n",
       " 'MCHC': [35.9],\n",
       " 'MCV': [81.8],\n",
       " 'SEX': ['F'],\n",
       " 'THROMBOCYTE': [211],\n",
       " 'predictions': 0.2448779046535492,\n",
       " 'success': True}"
      ]
     },
     "execution_count": 4,
     "metadata": {},
     "output_type": "execute_result"
    }
   ],
   "source": [
    "get_prediction(X_test.iloc[0, :], True)"
   ]
  },
  {
   "cell_type": "markdown",
   "id": "c14f3bce",
   "metadata": {},
   "source": [
    "И со всей тестовой выборки:"
   ]
  },
  {
   "cell_type": "code",
   "execution_count": 5,
   "id": "360e4d93",
   "metadata": {},
   "outputs": [],
   "source": [
    "preds = X_test.apply(get_prediction, axis=1)"
   ]
  },
  {
   "cell_type": "code",
   "execution_count": 6,
   "id": "ed72c099",
   "metadata": {},
   "outputs": [
    {
     "data": {
      "text/plain": [
       "0    0.244878\n",
       "1    0.048871\n",
       "2    0.176370\n",
       "3    0.501244\n",
       "4    0.933302\n",
       "5    0.325912\n",
       "6    0.803829\n",
       "7    0.210386\n",
       "8    0.460991\n",
       "9    0.388969\n",
       "dtype: float64"
      ]
     },
     "execution_count": 6,
     "metadata": {},
     "output_type": "execute_result"
    }
   ],
   "source": [
    "preds[:10]"
   ]
  },
  {
   "cell_type": "code",
   "execution_count": 7,
   "id": "ae0b7f72",
   "metadata": {},
   "outputs": [
    {
     "data": {
      "text/plain": [
       "(1103,)"
      ]
     },
     "execution_count": 7,
     "metadata": {},
     "output_type": "execute_result"
    }
   ],
   "source": [
    "preds.shape"
   ]
  },
  {
   "cell_type": "code",
   "execution_count": 8,
   "id": "8751577f",
   "metadata": {},
   "outputs": [
    {
     "name": "stdout",
     "output_type": "stream",
     "text": [
      "Best Threshold = 0.25811153650283813, F-Score = 0.689, Precision = 0.590, Recall = 0.827\n"
     ]
    }
   ],
   "source": [
    "precision, recall, thresholds = precision_recall_curve(y_test, preds)\n",
    "fscore = (2 * precision * recall) / (precision + recall)\n",
    "ix = np.argmax(fscore)\n",
    "\n",
    "print(f'Best Threshold = {thresholds[ix]}, F-Score = {fscore[ix]:.3f}, Precision = {precision[ix]:.3f}, Recall = {recall[ix]:.3f}')"
   ]
  }
 ],
 "metadata": {
  "kernelspec": {
   "display_name": "Python 3",
   "language": "python",
   "name": "python3"
  },
  "language_info": {
   "codemirror_mode": {
    "name": "ipython",
    "version": 3
   },
   "file_extension": ".py",
   "mimetype": "text/x-python",
   "name": "python",
   "nbconvert_exporter": "python",
   "pygments_lexer": "ipython3",
   "version": "3.8.8"
  }
 },
 "nbformat": 4,
 "nbformat_minor": 5
}
