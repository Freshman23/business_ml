{
 "cells": [
  {
   "cell_type": "markdown",
   "id": "ffc0956e",
   "metadata": {},
   "source": [
    "### Домашнее задание №5.\n",
    "1. Для нашего пайплайна (Case1) поэкспериментировать с разными моделями:\n",
    "    - бустинг;\n",
    "    - логистическая регрессия.\n",
    "2. Отобрать лучшую модель по метрикам (какая по вашему мнению здесь наиболее подходящая ML-метрика).\n",
    "3. Для отобранной модели (на отложенной выборке) сделать оценку экономической эффективности при тех же вводных, как в вопросе 2:\n",
    "    - 1 доллар на удержание;\n",
    "    - 2 доллара - с каждого правильно классифицированного (True Positive).\n",
    "4. *Провести подбор гиперпараметров лучшей модели по итогам 2-3.\n",
    "5. *Еще раз провести оценку экономической эффективности."
   ]
  },
  {
   "cell_type": "code",
   "execution_count": 1,
   "id": "9f01d1e5",
   "metadata": {},
   "outputs": [],
   "source": [
    "import pandas as pd\n",
    "import numpy as np\n",
    "\n",
    "from sklearn.base import BaseEstimator, TransformerMixin\n",
    "from sklearn.pipeline import Pipeline, FeatureUnion\n",
    "from sklearn.preprocessing import StandardScaler\n",
    "from sklearn.model_selection import train_test_split, cross_val_score, GridSearchCV\n",
    "from sklearn.linear_model import LogisticRegression\n",
    "from sklearn.ensemble import RandomForestClassifier, GradientBoostingClassifier\n",
    "from sklearn.metrics import precision_recall_curve, roc_auc_score, confusion_matrix\n",
    "\n",
    "import matplotlib.pyplot as plt\n",
    "%matplotlib inline"
   ]
  },
  {
   "cell_type": "code",
   "execution_count": 2,
   "id": "09a61060",
   "metadata": {},
   "outputs": [],
   "source": [
    "class FeatureSelector(BaseEstimator, TransformerMixin):\n",
    "    \n",
    "    def __init__(self, column):\n",
    "        self.column = column\n",
    "\n",
    "    def fit(self, X, y=None):\n",
    "        return self\n",
    "\n",
    "    def transform(self, X):\n",
    "        return X[self.column]\n",
    "    \n",
    "class NumberSelector(BaseEstimator, TransformerMixin):\n",
    "    \n",
    "    def __init__(self, key):\n",
    "        self.key = key\n",
    "\n",
    "    def fit(self, X, y=None):\n",
    "        return self\n",
    "\n",
    "    def transform(self, X):\n",
    "        return X[[self.key]]\n",
    "    \n",
    "class OHEEncoder(BaseEstimator, TransformerMixin):\n",
    "    def __init__(self, key):\n",
    "        self.key = key\n",
    "        self.columns = []\n",
    "\n",
    "    def fit(self, X, y=None):\n",
    "        self.columns = [col for col in pd.get_dummies(X, prefix=self.key).columns]\n",
    "        return self\n",
    "\n",
    "    def transform(self, X):\n",
    "        return pd.get_dummies(X, prefix=self.key)[self.columns]"
   ]
  },
  {
   "cell_type": "markdown",
   "id": "f4a17351",
   "metadata": {},
   "source": [
    "- Разобьем признаки на группы: вещественные, категориальные и бинарные."
   ]
  },
  {
   "cell_type": "code",
   "execution_count": 3,
   "id": "7586400b",
   "metadata": {},
   "outputs": [],
   "source": [
    "cat_cols = ['Geography', 'Gender', 'Tenure']\n",
    "cont_cols = ['CreditScore', 'Age', 'Balance', 'NumOfProducts', 'EstimatedSalary']\n",
    "bin_cols = ['HasCrCard', 'IsActiveMember']"
   ]
  },
  {
   "cell_type": "markdown",
   "id": "e4fbe148",
   "metadata": {},
   "source": [
    "- Напишем пайплайны для всех признаков."
   ]
  },
  {
   "cell_type": "code",
   "execution_count": 4,
   "id": "6bb63bae",
   "metadata": {},
   "outputs": [],
   "source": [
    "final_transformers = []\n",
    "\n",
    "for cat_col in cat_cols:\n",
    "    cat_transformer = Pipeline([\n",
    "                ('selector', FeatureSelector(column=cat_col)),\n",
    "                ('ohe', OHEEncoder(key=cat_col))\n",
    "            ])\n",
    "    \n",
    "    final_transformers.append((cat_col, cat_transformer))\n",
    "    \n",
    "for cont_col in cont_cols:\n",
    "    cont_transformer = Pipeline([\n",
    "                ('selector', NumberSelector(key=cont_col)),\n",
    "                ('scaler', StandardScaler())\n",
    "            ])\n",
    "    \n",
    "    final_transformers.append((cont_col, cont_transformer))\n",
    "\n",
    "for bin_col in bin_cols:\n",
    "    bin_transformer = Pipeline([\n",
    "                ('selector', NumberSelector(key=bin_col))\n",
    "            ])\n",
    "    \n",
    "    final_transformers.append((bin_col, bin_transformer))"
   ]
  },
  {
   "cell_type": "code",
   "execution_count": 5,
   "id": "cb7be539",
   "metadata": {},
   "outputs": [],
   "source": [
    "feats = FeatureUnion(final_transformers)\n",
    "\n",
    "feature_processing = Pipeline([('feats', feats)])"
   ]
  },
  {
   "cell_type": "markdown",
   "id": "21c2669b",
   "metadata": {},
   "source": [
    "- Загрузим датасет и разобьем его на train и test."
   ]
  },
  {
   "cell_type": "code",
   "execution_count": 6,
   "id": "1c3d506b",
   "metadata": {},
   "outputs": [
    {
     "data": {
      "text/html": [
       "<div>\n",
       "<style scoped>\n",
       "    .dataframe tbody tr th:only-of-type {\n",
       "        vertical-align: middle;\n",
       "    }\n",
       "\n",
       "    .dataframe tbody tr th {\n",
       "        vertical-align: top;\n",
       "    }\n",
       "\n",
       "    .dataframe thead th {\n",
       "        text-align: right;\n",
       "    }\n",
       "</style>\n",
       "<table border=\"1\" class=\"dataframe\">\n",
       "  <thead>\n",
       "    <tr style=\"text-align: right;\">\n",
       "      <th></th>\n",
       "      <th>RowNumber</th>\n",
       "      <th>CustomerId</th>\n",
       "      <th>Surname</th>\n",
       "      <th>CreditScore</th>\n",
       "      <th>Geography</th>\n",
       "      <th>Gender</th>\n",
       "      <th>Age</th>\n",
       "      <th>Tenure</th>\n",
       "      <th>Balance</th>\n",
       "      <th>NumOfProducts</th>\n",
       "      <th>HasCrCard</th>\n",
       "      <th>IsActiveMember</th>\n",
       "      <th>EstimatedSalary</th>\n",
       "      <th>Exited</th>\n",
       "    </tr>\n",
       "  </thead>\n",
       "  <tbody>\n",
       "    <tr>\n",
       "      <th>0</th>\n",
       "      <td>1</td>\n",
       "      <td>15634602</td>\n",
       "      <td>Hargrave</td>\n",
       "      <td>619</td>\n",
       "      <td>France</td>\n",
       "      <td>Female</td>\n",
       "      <td>42</td>\n",
       "      <td>2</td>\n",
       "      <td>0.00</td>\n",
       "      <td>1</td>\n",
       "      <td>1</td>\n",
       "      <td>1</td>\n",
       "      <td>101348.88</td>\n",
       "      <td>1</td>\n",
       "    </tr>\n",
       "    <tr>\n",
       "      <th>1</th>\n",
       "      <td>2</td>\n",
       "      <td>15647311</td>\n",
       "      <td>Hill</td>\n",
       "      <td>608</td>\n",
       "      <td>Spain</td>\n",
       "      <td>Female</td>\n",
       "      <td>41</td>\n",
       "      <td>1</td>\n",
       "      <td>83807.86</td>\n",
       "      <td>1</td>\n",
       "      <td>0</td>\n",
       "      <td>1</td>\n",
       "      <td>112542.58</td>\n",
       "      <td>0</td>\n",
       "    </tr>\n",
       "    <tr>\n",
       "      <th>2</th>\n",
       "      <td>3</td>\n",
       "      <td>15619304</td>\n",
       "      <td>Onio</td>\n",
       "      <td>502</td>\n",
       "      <td>France</td>\n",
       "      <td>Female</td>\n",
       "      <td>42</td>\n",
       "      <td>8</td>\n",
       "      <td>159660.80</td>\n",
       "      <td>3</td>\n",
       "      <td>1</td>\n",
       "      <td>0</td>\n",
       "      <td>113931.57</td>\n",
       "      <td>1</td>\n",
       "    </tr>\n",
       "  </tbody>\n",
       "</table>\n",
       "</div>"
      ],
      "text/plain": [
       "   RowNumber  CustomerId   Surname  CreditScore Geography  Gender  Age  \\\n",
       "0          1    15634602  Hargrave          619    France  Female   42   \n",
       "1          2    15647311      Hill          608     Spain  Female   41   \n",
       "2          3    15619304      Onio          502    France  Female   42   \n",
       "\n",
       "   Tenure    Balance  NumOfProducts  HasCrCard  IsActiveMember  \\\n",
       "0       2       0.00              1          1               1   \n",
       "1       1   83807.86              1          0               1   \n",
       "2       8  159660.80              3          1               0   \n",
       "\n",
       "   EstimatedSalary  Exited  \n",
       "0        101348.88       1  \n",
       "1        112542.58       0  \n",
       "2        113931.57       1  "
      ]
     },
     "execution_count": 6,
     "metadata": {},
     "output_type": "execute_result"
    }
   ],
   "source": [
    "df = pd.read_csv(\"churn_data.csv\")\n",
    "df.head(3)"
   ]
  },
  {
   "cell_type": "code",
   "execution_count": 7,
   "id": "0a898a1d",
   "metadata": {},
   "outputs": [],
   "source": [
    "X_train, X_test, y_train, y_test = train_test_split(df.drop(['Exited'], axis=1), df['Exited'], random_state=23)"
   ]
  },
  {
   "cell_type": "markdown",
   "id": "a90409c7",
   "metadata": {},
   "source": [
    "- Построим модели логистической регресси, случайного леса и градиентного бустинга. Для двух последних предварительно с помощью GridSearchCV подберем лучшие гиперпараметры."
   ]
  },
  {
   "cell_type": "markdown",
   "id": "bd5841da",
   "metadata": {},
   "source": [
    "__Логистическая регрессия__"
   ]
  },
  {
   "cell_type": "code",
   "execution_count": 8,
   "id": "75c1cafb",
   "metadata": {},
   "outputs": [
    {
     "name": "stdout",
     "output_type": "stream",
     "text": [
      "CV score is 0.76337 +- 0.00972\n"
     ]
    }
   ],
   "source": [
    "lr = Pipeline([('features', feats),\n",
    "               ('classifier', LogisticRegression(random_state=23))])\n",
    "\n",
    "cv_scores = cross_val_score(lr, X_train, y_train, cv=5, scoring='roc_auc')\n",
    "cv_score = np.mean(cv_scores)\n",
    "cv_score_std = np.std(cv_scores)\n",
    "print(f'CV score is {cv_score:.5f} +- {cv_score_std:.5f}')"
   ]
  },
  {
   "cell_type": "markdown",
   "id": "040f6155",
   "metadata": {},
   "source": [
    "__Случайный лес__"
   ]
  },
  {
   "cell_type": "code",
   "execution_count": 9,
   "id": "c3394ac4",
   "metadata": {},
   "outputs": [],
   "source": [
    "rfc_def = Pipeline([('features', feats),\n",
    "                    ('classifier', RandomForestClassifier(random_state=23))])"
   ]
  },
  {
   "cell_type": "code",
   "execution_count": 10,
   "id": "ea6238cc",
   "metadata": {},
   "outputs": [],
   "source": [
    "params_rfc = {\n",
    "    'classifier__max_features': [0.2, 0.3, 0.5, 0.7],\n",
    "    'classifier__min_samples_leaf': [1, 2, 3, 4, 5],\n",
    "    'classifier__class_weight':[{0: 1, 1: 4}, 'balanced_subsample']\n",
    "}"
   ]
  },
  {
   "cell_type": "code",
   "execution_count": 11,
   "id": "48d8589e",
   "metadata": {},
   "outputs": [
    {
     "name": "stdout",
     "output_type": "stream",
     "text": [
      "Wall time: 4min 53s\n"
     ]
    }
   ],
   "source": [
    "%%time\n",
    "rfc_grid = GridSearchCV(rfc_def,\n",
    "                        param_grid=params_rfc,\n",
    "                        cv=5,\n",
    "                        scoring='f1')\n",
    "\n",
    "rfc_search = rfc_grid.fit(X_train, y_train)"
   ]
  },
  {
   "cell_type": "code",
   "execution_count": 12,
   "id": "3ba429bc",
   "metadata": {
    "scrolled": true
   },
   "outputs": [
    {
     "data": {
      "text/plain": [
       "{'classifier__class_weight': 'balanced_subsample',\n",
       " 'classifier__max_features': 0.3,\n",
       " 'classifier__min_samples_leaf': 4}"
      ]
     },
     "execution_count": 12,
     "metadata": {},
     "output_type": "execute_result"
    }
   ],
   "source": [
    "rfc_search.best_params_"
   ]
  },
  {
   "cell_type": "code",
   "execution_count": 13,
   "id": "87dff071",
   "metadata": {},
   "outputs": [
    {
     "data": {
      "text/plain": [
       "0.6274307437272811"
      ]
     },
     "execution_count": 13,
     "metadata": {},
     "output_type": "execute_result"
    }
   ],
   "source": [
    "rfc_search.best_score_"
   ]
  },
  {
   "cell_type": "code",
   "execution_count": 14,
   "id": "61b6a3ad",
   "metadata": {},
   "outputs": [
    {
     "name": "stdout",
     "output_type": "stream",
     "text": [
      "CV score is 0.85896 +- 0.01174\n"
     ]
    }
   ],
   "source": [
    "rfc = Pipeline([('features', feats),\n",
    "                ('classifier', RandomForestClassifier(min_samples_leaf=4,\n",
    "                                                      max_features=0.3,\n",
    "                                                      class_weight='balanced_subsample',\n",
    "                                                      random_state=23))])\n",
    "\n",
    "cv_scores = cross_val_score(rfc, X_train, y_train, cv=5, scoring='roc_auc')\n",
    "cv_score = np.mean(cv_scores)\n",
    "cv_score_std = np.std(cv_scores)\n",
    "print(f'CV score is {cv_score:.5f} +- {cv_score_std:.5f}')"
   ]
  },
  {
   "cell_type": "markdown",
   "id": "9cc8e661",
   "metadata": {},
   "source": [
    "__Градиентный бустинг__"
   ]
  },
  {
   "cell_type": "code",
   "execution_count": 15,
   "id": "958802d3",
   "metadata": {},
   "outputs": [],
   "source": [
    "gbc_def = Pipeline([('features', feats),\n",
    "                    ('classifier', GradientBoostingClassifier(random_state=23))])"
   ]
  },
  {
   "cell_type": "code",
   "execution_count": 16,
   "id": "753f2159",
   "metadata": {},
   "outputs": [],
   "source": [
    "params_gbc = {\n",
    "    'classifier__learning_rate': [0.05, 0.08, 0.1],\n",
    "    'classifier__n_estimators': [100, 120, 140, 160, 180],\n",
    "    'classifier__max_depth': [2, 3, 4, 5, 6]\n",
    "}"
   ]
  },
  {
   "cell_type": "code",
   "execution_count": 17,
   "id": "51cac231",
   "metadata": {},
   "outputs": [
    {
     "name": "stdout",
     "output_type": "stream",
     "text": [
      "Wall time: 14min 43s\n"
     ]
    }
   ],
   "source": [
    "%%time\n",
    "gbc_grid = GridSearchCV(gbc_def,\n",
    "                        param_grid=params_gbc,\n",
    "                        cv=5,\n",
    "                        scoring='f1')\n",
    "\n",
    "gbc_search = gbc_grid.fit(X_train, y_train)"
   ]
  },
  {
   "cell_type": "code",
   "execution_count": 18,
   "id": "adbe91fb",
   "metadata": {},
   "outputs": [
    {
     "data": {
      "text/plain": [
       "{'classifier__learning_rate': 0.08,\n",
       " 'classifier__max_depth': 5,\n",
       " 'classifier__n_estimators': 120}"
      ]
     },
     "execution_count": 18,
     "metadata": {},
     "output_type": "execute_result"
    }
   ],
   "source": [
    "gbc_search.best_params_"
   ]
  },
  {
   "cell_type": "code",
   "execution_count": 19,
   "id": "0e0822e3",
   "metadata": {},
   "outputs": [
    {
     "data": {
      "text/plain": [
       "0.6003868748109693"
      ]
     },
     "execution_count": 19,
     "metadata": {},
     "output_type": "execute_result"
    }
   ],
   "source": [
    "gbc_search.best_score_"
   ]
  },
  {
   "cell_type": "code",
   "execution_count": 20,
   "id": "3c66d8df",
   "metadata": {},
   "outputs": [
    {
     "name": "stdout",
     "output_type": "stream",
     "text": [
      "CV score is 0.85946 +- 0.01073\n"
     ]
    }
   ],
   "source": [
    "gbc = Pipeline([('features', feats),\n",
    "                ('classifier', GradientBoostingClassifier(learning_rate=0.08,\n",
    "                                                          n_estimators=120,\n",
    "                                                          max_depth=5,\n",
    "                                                          random_state=23))])\n",
    "\n",
    "cv_scores = cross_val_score(gbc, X_train, y_train, cv=5, scoring='roc_auc')\n",
    "cv_score = np.mean(cv_scores)\n",
    "cv_score_std = np.std(cv_scores)\n",
    "print(f'CV score is {cv_score:.5f} +- {cv_score_std:.5f}')"
   ]
  },
  {
   "cell_type": "markdown",
   "id": "d9cb1840",
   "metadata": {},
   "source": [
    "- Обучим каждую модель на отложенной выборке и посчитаем ML-метрики, собрав в общую таблицу."
   ]
  },
  {
   "cell_type": "code",
   "execution_count": 21,
   "id": "0a195422",
   "metadata": {},
   "outputs": [],
   "source": [
    "pivot_metric_table = []\n",
    "models_pred_proba_values = []\n",
    "\n",
    "for model in ['lr', 'rfc', 'gbc']:\n",
    "    eval(f'{model}.fit(X_train, y_train)')\n",
    "    preds = eval(f'{model}.predict_proba(X_test)[:, 1]')\n",
    "    models_pred_proba_values.append(preds)\n",
    "    \n",
    "    precision, recall, thresholds = precision_recall_curve(y_test, preds)\n",
    "    precision[(precision == 0) & (recall == 0)] = np.e-10\n",
    "    fscore = (2 * precision * recall) / (precision + recall)\n",
    "    \n",
    "    ix = np.argmax(fscore)\n",
    "    \n",
    "    pivot_metric_table.append((fscore[ix], precision[ix], recall[ix], thresholds[ix], roc_auc_score(y_test, preds)))\n",
    "\n",
    "pivot_metric_table = pd.DataFrame(pivot_metric_table)\n",
    "pivot_metric_table.columns = ['F score', 'Precision', 'Recall', 'Optimal threshold', 'ROC AUC score']\n",
    "pivot_metric_table['Classifier'] = ['Logistic Regression', 'Random Forest', 'Gradient Boosting']\n",
    "pivot_metric_table.set_index('Classifier', inplace=True)"
   ]
  },
  {
   "cell_type": "code",
   "execution_count": 22,
   "id": "c152047c",
   "metadata": {},
   "outputs": [
    {
     "data": {
      "text/html": [
       "<div>\n",
       "<style scoped>\n",
       "    .dataframe tbody tr th:only-of-type {\n",
       "        vertical-align: middle;\n",
       "    }\n",
       "\n",
       "    .dataframe tbody tr th {\n",
       "        vertical-align: top;\n",
       "    }\n",
       "\n",
       "    .dataframe thead th {\n",
       "        text-align: right;\n",
       "    }\n",
       "</style>\n",
       "<table border=\"1\" class=\"dataframe\">\n",
       "  <thead>\n",
       "    <tr style=\"text-align: right;\">\n",
       "      <th></th>\n",
       "      <th>F score</th>\n",
       "      <th>Precision</th>\n",
       "      <th>Recall</th>\n",
       "      <th>Optimal threshold</th>\n",
       "      <th>ROC AUC score</th>\n",
       "    </tr>\n",
       "    <tr>\n",
       "      <th>Classifier</th>\n",
       "      <th></th>\n",
       "      <th></th>\n",
       "      <th></th>\n",
       "      <th></th>\n",
       "      <th></th>\n",
       "    </tr>\n",
       "  </thead>\n",
       "  <tbody>\n",
       "    <tr>\n",
       "      <th>Logistic Regression</th>\n",
       "      <td>0.481640</td>\n",
       "      <td>0.421525</td>\n",
       "      <td>0.561753</td>\n",
       "      <td>0.265910</td>\n",
       "      <td>0.766747</td>\n",
       "    </tr>\n",
       "    <tr>\n",
       "      <th>Random Forest</th>\n",
       "      <td>0.626709</td>\n",
       "      <td>0.663697</td>\n",
       "      <td>0.593625</td>\n",
       "      <td>0.518071</td>\n",
       "      <td>0.863991</td>\n",
       "    </tr>\n",
       "    <tr>\n",
       "      <th>Gradient Boosting</th>\n",
       "      <td>0.624465</td>\n",
       "      <td>0.547226</td>\n",
       "      <td>0.727092</td>\n",
       "      <td>0.220511</td>\n",
       "      <td>0.870244</td>\n",
       "    </tr>\n",
       "  </tbody>\n",
       "</table>\n",
       "</div>"
      ],
      "text/plain": [
       "                      F score  Precision    Recall  Optimal threshold  \\\n",
       "Classifier                                                              \n",
       "Logistic Regression  0.481640   0.421525  0.561753           0.265910   \n",
       "Random Forest        0.626709   0.663697  0.593625           0.518071   \n",
       "Gradient Boosting    0.624465   0.547226  0.727092           0.220511   \n",
       "\n",
       "                     ROC AUC score  \n",
       "Classifier                          \n",
       "Logistic Regression       0.766747  \n",
       "Random Forest             0.863991  \n",
       "Gradient Boosting         0.870244  "
      ]
     },
     "execution_count": 22,
     "metadata": {},
     "output_type": "execute_result"
    }
   ],
   "source": [
    "pivot_metric_table"
   ]
  },
  {
   "cell_type": "markdown",
   "id": "90b903ec",
   "metadata": {},
   "source": [
    "- Произведем оценку экономической эффективности моделей с порогом срабатывания, соответствующим лучшим показателям ML-метрик."
   ]
  },
  {
   "cell_type": "code",
   "execution_count": 23,
   "id": "2bd7c8a3",
   "metadata": {},
   "outputs": [],
   "source": [
    "def get_business_profit(y_test, y_preds, treshold=0.5,\n",
    "                       retain_cost=1, spec_profit=2):\n",
    "    \n",
    "    cnf_matrix = confusion_matrix(y_test, y_preds > treshold)\n",
    "    TN = cnf_matrix[0][0]\n",
    "    FN = cnf_matrix[1][0]\n",
    "    TP = cnf_matrix[1][1]\n",
    "    FP = cnf_matrix[0][1]\n",
    "    \n",
    "    return spec_profit * TP - retain_cost * (TP + FP)"
   ]
  },
  {
   "cell_type": "code",
   "execution_count": 24,
   "id": "f5876556",
   "metadata": {},
   "outputs": [],
   "source": [
    "profit_lr = get_business_profit(y_test, models_pred_proba_values[0], pivot_metric_table.iloc[0, 3])\n",
    "profit_rfc = get_business_profit(y_test, models_pred_proba_values[1], pivot_metric_table.iloc[1, 3])\n",
    "profit_gbc = get_business_profit(y_test, models_pred_proba_values[2], pivot_metric_table.iloc[2, 3])"
   ]
  },
  {
   "cell_type": "code",
   "execution_count": 25,
   "id": "865987b9",
   "metadata": {},
   "outputs": [
    {
     "data": {
      "text/plain": [
       "(-106, 146, 62)"
      ]
     },
     "execution_count": 25,
     "metadata": {},
     "output_type": "execute_result"
    }
   ],
   "source": [
    "profit_lr, profit_rfc, profit_gbc"
   ]
  },
  {
   "cell_type": "markdown",
   "id": "a27e9766",
   "metadata": {},
   "source": [
    "- Также подсчитаем экономическую эффективность моделей с порогом срабатывания, соответствующим наибольшей прибыли."
   ]
  },
  {
   "cell_type": "code",
   "execution_count": 26,
   "id": "e56ceddb",
   "metadata": {},
   "outputs": [],
   "source": [
    "def get_best_business_profit_th(y_test, y_preds, n_thresholds=20,\n",
    "                                retain_cost=1, spec_profit=2):\n",
    "    best_profit = -np.inf\n",
    "    opt_th = None\n",
    "    best_cm = None\n",
    "    \n",
    "    for th in np.linspace(0, 1, n_thresholds + 1):\n",
    "        \n",
    "        cnf_matrix = confusion_matrix(y_test, y_preds > th)\n",
    "        TN = cnf_matrix[0][0]\n",
    "        FN = cnf_matrix[1][0]\n",
    "        TP = cnf_matrix[1][1]\n",
    "        FP = cnf_matrix[0][1]\n",
    "    \n",
    "        profit = spec_profit * TP - retain_cost * (TP + FP)\n",
    "        \n",
    "        if profit > best_profit:\n",
    "            opt_th = th\n",
    "            best_profit = profit\n",
    "            best_cm = cnf_matrix\n",
    "    \n",
    "    return opt_th, best_profit, (best_cm[1][1], best_cm[0][1], best_cm[1][0], best_cm[0][0])"
   ]
  },
  {
   "cell_type": "code",
   "execution_count": 27,
   "id": "3cf3a39b",
   "metadata": {},
   "outputs": [],
   "source": [
    "opt_th_lr = get_best_business_profit_th(y_test, models_pred_proba_values[0], 100)\n",
    "opt_th_rfc = get_best_business_profit_th(y_test, models_pred_proba_values[1], 100)\n",
    "opt_th_gbc = get_best_business_profit_th(y_test, models_pred_proba_values[2], 100)"
   ]
  },
  {
   "cell_type": "code",
   "execution_count": 28,
   "id": "7d946b1e",
   "metadata": {},
   "outputs": [
    {
     "name": "stdout",
     "output_type": "stream",
     "text": [
      "Для модели логистической регрессии максимальная прибыль - 50, при пороге - 0.49\n",
      "Для модели случайного леса максимальная прибыль - 170, при пороге - 0.68\n",
      "Для модели градиентного бустинга максимальная прибыль - 172, при пороге - 0.54\n"
     ]
    }
   ],
   "source": [
    "print(f'Для модели логистической регрессии максимальная прибыль - {opt_th_lr[1]}, при пороге - {opt_th_lr[0]:.2f}')\n",
    "print(f'Для модели случайного леса максимальная прибыль - {opt_th_rfc[1]}, при пороге - {opt_th_rfc[0]:.2f}')\n",
    "print(f'Для модели градиентного бустинга максимальная прибыль - {opt_th_gbc[1]}, при пороге - {opt_th_gbc[0]:.2f}')"
   ]
  }
 ],
 "metadata": {
  "kernelspec": {
   "display_name": "Python 3",
   "language": "python",
   "name": "python3"
  },
  "language_info": {
   "codemirror_mode": {
    "name": "ipython",
    "version": 3
   },
   "file_extension": ".py",
   "mimetype": "text/x-python",
   "name": "python",
   "nbconvert_exporter": "python",
   "pygments_lexer": "ipython3",
   "version": "3.8.8"
  }
 },
 "nbformat": 4,
 "nbformat_minor": 5
}
